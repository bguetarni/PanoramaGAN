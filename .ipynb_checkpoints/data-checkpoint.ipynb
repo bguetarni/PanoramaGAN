{
 "cells": [
  {
   "cell_type": "code",
   "execution_count": 2,
   "id": "atlantic-finnish",
   "metadata": {
    "collapsed": true
   },
   "outputs": [
    {
     "name": "stdout",
     "output_type": "stream",
     "text": [
      "Defaulting to user installation because normal site-packages is not writeable\n",
      "Collecting opencv-python\n",
      "  Downloading opencv_python-4.5.1.48-cp38-cp38-manylinux2014_x86_64.whl (50.4 MB)\n",
      "\u001b[K     |████████████████████████████████| 50.4 MB 9.7 MB/s eta 0:00:011\n",
      "\u001b[?25hRequirement already satisfied: numpy>=1.17.3 in /home/bilel/.local/lib/python3.8/site-packages (from opencv-python) (1.19.2)\n",
      "Installing collected packages: opencv-python\n",
      "Successfully installed opencv-python-4.5.1.48\n",
      "\u001b[33mWARNING: You are using pip version 20.3.3; however, version 21.0.1 is available.\n",
      "You should consider upgrading via the '/usr/bin/python -m pip install --upgrade pip' command.\u001b[0m\n",
      "Note: you may need to restart the kernel to use updated packages.\n"
     ]
    }
   ],
   "source": [
    "pip install opencv-python"
   ]
  },
  {
   "cell_type": "code",
   "execution_count": null,
   "id": "thirty-gender",
   "metadata": {},
   "outputs": [],
   "source": [
    "import os\n",
    "import cv2\n",
    "import numpy as np\n",
    "\n",
    "mean = [0.3852, 0.3761, 0.3258]\n",
    "std = [0.0372, 0.0275, 0.0280]\n",
    "\n",
    "def get_statistics():\n",
    "    images_path = 'data/'\n",
    "    width, height = [], []\n",
    "    for sample in os.listdir(images_path):\n",
    "        if os.path.isfile(images_path + sample + '/blurred/out.jpg'):\n",
    "            pano = cv2.imread(images_path + sample + '/blurred/out.jpg')\n",
    "            width.append(pano.shape[1])\n",
    "            height.append(pano.shape[0])\n",
    "    width = np.array(width)\n",
    "    height = np.array(height)\n",
    "    print('{} samples'.format(width.shape))\n",
    "    print('width')\n",
    "    print(' min : {}'.format(width.min()))\n",
    "    print(' max : {}'.format(width.max()))\n",
    "    print(' mean : {}'.format(width.mean()))\n",
    "    print(' median : {}'.format(np.median(width)))\n",
    "    print(' std : {}'.format(width.std()))\n",
    "    print('height')\n",
    "    print(' min : {}'.format(height.min()))\n",
    "    print(' max : {}'.format(height.max()))\n",
    "    print(' mean : {}'.format(height.mean()))\n",
    "    print(' median : {}'.format(np.median(height)))\n",
    "    print(' std : {}'.format(height.std()))\n",
    "    print('percentage of panoramas with height less than 480 {}%'.format(100*round(np.count_nonzero(height < 480) / len(height), 2)))\n",
    "\n",
    "def resize_and_fill_pano(x):\n",
    "    h, w = x.shape[0], x.shape[1]\n",
    "    w_resize = round(w/(h/96))\n",
    "    x = cv2.resize(x, (w_resize, 96))\n",
    "    out = np.ones((96, 6*128, 3))\n",
    "    diff = 6*128 - x.shape[1]\n",
    "    out[:, round(diff/2):x.shape[1] + round(diff/2), :] = x\n",
    "\n",
    "    # normalization\n",
    "    out = (out/255 - mean)/std\n",
    "    return out\n",
    "\n",
    "def create_dataset(path='/data/PanoramaGAN/panorama/'):\n",
    "    data = os.listdir(path)\n",
    "    X, Y = None, None\n",
    "    for i, sample in enumerate(data):\n",
    "        if i % 100 == 0:\n",
    "            print(i)\n",
    "        x = None\n",
    "        images_list = os.listdir(path + sample)\n",
    "        images_list.sort()\n",
    "        for img_name in images_list:\n",
    "            if img_name != 'out.jpg':\n",
    "                img = cv2.imread(path + sample + '/' + img_name)\n",
    "                img = cv2.cvtColor(img, cv2.COLOR_BGR2RGB)\n",
    "                img = cv2.resize(img, (128, 96))\n",
    "\n",
    "                # normalization\n",
    "                img = (img/255 - mean)/std\n",
    "                img = img.astype('float32')\n",
    "\n",
    "                if x is None:\n",
    "                    x = img\n",
    "                else:\n",
    "                    x = np.concatenate((x, img), axis=-1)\n",
    "            else:\n",
    "                img = cv2.imread(path + sample + '/' + img_name)\n",
    "                img = cv2.cvtColor(img, cv2.COLOR_BGR2RGB)\n",
    "\n",
    "                # reshape the pano to fit the 96*(6*128)\n",
    "                img = resize_and_fill_pano(img).astype('float32')\n",
    "\n",
    "                y = np.empty((96, 128, 3*6), dtype='float32')\n",
    "                for i in range(6):\n",
    "                    y[:, :, i*3:(i+1)*3] = img[:, 128*i:128*(i+1), :]\n",
    "        x = np.expand_dims(x, axis=0)\n",
    "        y = np.expand_dims(y, axis=0)\n",
    "        if X is None:\n",
    "            X = x\n",
    "            Y = y\n",
    "        else:\n",
    "            X = np.concatenate((X, x), axis=0)\n",
    "            Y = np.concatenate((Y, y), axis=0)\n",
    "    np.savez('dataset', X, Y)"
   ]
  },
  {
   "cell_type": "code",
   "execution_count": null,
   "id": "novel-naples",
   "metadata": {},
   "outputs": [],
   "source": [
    "import os\n",
    "\n",
    "n = 3\n",
    "path = 'data/'\n",
    "in_path = '/data/panorama_{}/inputs/'.format(n)\n",
    "out_path = '/data/panorama_{}/outputs/'.format(n)\n",
    "dirs = os.listdir(path + 'unblurred/')\n",
    "dirs.sort()\n",
    "failed = []\n",
    "for directory in dirs:\n",
    "    images_list = os.listdir(path + 'unblurred/' + directory)\n",
    "    images_list.sort()\n",
    "    for i in range(len(images_list) - 2*(n-1)):\n",
    "        sample_directory = directory + '_' + str(i+1).zfill(2)\n",
    "        sample_not_in_inputs = sample_directory not in os.listdir(in_path)\n",
    "        sample_not_in_outputs = sample_directory + '.jpg' not in os.listdir(out_path)\n",
    "        if sample_not_in_inputs or sample_not_in_outputs:\n",
    "            images = images_list[i:i+2*n:2]\n",
    "            unblurred_images_path = path + 'unblurred/' + directory + '/'\n",
    "            cmd = './image-stitching'\n",
    "            for img in images:\n",
    "                cmd += ' {}'.format(unblurred_images_path + img)\n",
    "            os.system(cmd)\n",
    "            if 'out.jpg' in os.listdir():\n",
    "                os.system('mv out.jpg {}'.format(out_path + sample_directory + '.jpg'))\n",
    "                try:\n",
    "                    os.mkdir(in_path + sample_directory)\n",
    "                except FileExistsError:\n",
    "                    pass\n",
    "                blurred_images_path = path + 'blurred/' + directory + '/'\n",
    "                for img in images:\n",
    "                    os.system('cp {} {}'.format(blurred_images_path + img, in_path + sample_directory + '/' + img))\n",
    "            else:\n",
    "                failed.append(sample_directory)\n",
    "print(failed)"
   ]
  },
  {
   "cell_type": "code",
   "execution_count": 11,
   "id": "weird-panama",
   "metadata": {},
   "outputs": [
    {
     "name": "stdout",
     "output_type": "stream",
     "text": [
      "min : 4.085616438356165\n",
      "max : 5.6242138364779874\n",
      "median : 5.178501945525292\n"
     ]
    }
   ],
   "source": [
    "import os\n",
    "import numpy as np\n",
    "import cv2\n",
    "\n",
    "n = []\n",
    "for i in os.listdir('/data/panorama_15/outputs/'):\n",
    "    img = cv2.imread('/data/panorama_15/outputs/' + i)\n",
    "    nb_frames = (img.shape[1]/(img.shape[0]/96))/128\n",
    "    n.append(nb_frames)\n",
    "n = np.array(n)\n",
    "print('min : {}'.format(n.min()))\n",
    "print('max : {}'.format(n.max()))\n",
    "print('median : {}'.format(np.median(n)))"
   ]
  },
  {
   "cell_type": "code",
   "execution_count": 12,
   "id": "final-tissue",
   "metadata": {},
   "outputs": [
    {
     "data": {
      "image/png": "[encoded data removed]",
      "text/plain": [
       "<Figure size 432x288 with 1 Axes>"
      ]
     },
     "metadata": {
      "needs_background": "light"
     },
     "output_type": "display_data"
    }
   ],
   "source": [
    "from matplotlib import pyplot as plt\n",
    "\n",
    "plt.hist(n, bins=20)\n",
    "plt.show()"
   ]
  }
 ],
 "metadata": {
  "kernelspec": {
   "display_name": "Python 3",
   "language": "python",
   "name": "python3"
  },
  "language_info": {
   "codemirror_mode": {
    "name": "ipython",
    "version": 3
   },
   "file_extension": ".py",
   "mimetype": "text/x-python",
   "name": "python",
   "nbconvert_exporter": "python",
   "pygments_lexer": "ipython3",
   "version": "3.8.5"
  }
 },
 "nbformat": 4,
 "nbformat_minor": 5
}
